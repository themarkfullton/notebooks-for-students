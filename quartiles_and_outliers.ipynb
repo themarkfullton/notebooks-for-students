{
  "nbformat": 4,
  "nbformat_minor": 0,
  "metadata": {
    "colab": {
      "provenance": [],
      "authorship_tag": "ABX9TyOBrQ+jwATiMW8RuNPgYQYy"
    },
    "kernelspec": {
      "name": "python3",
      "display_name": "Python 3"
    },
    "language_info": {
      "name": "python"
    }
  },
  "cells": [
    {
      "cell_type": "code",
      "execution_count": 38,
      "metadata": {
        "colab": {
          "base_uri": "https://localhost:8080/"
        },
        "id": "tiWKEBeBfcPA",
        "outputId": "33741ed2-929a-493e-9c7c-abbe704af6f2"
      },
      "outputs": [
        {
          "output_type": "stream",
          "name": "stdout",
          "text": [
            "<class 'pandas.core.frame.DataFrame'>\n",
            "RangeIndex: 67 entries, 0 to 66\n",
            "Data columns (total 6 columns):\n",
            " #   Column               Non-Null Count  Dtype  \n",
            "---  ------               --------------  -----  \n",
            " 0   gender               67 non-null     object \n",
            " 1   september_weight_kg  67 non-null     int64  \n",
            " 2   april_weight_kg      67 non-null     int64  \n",
            " 3   september_bmi        67 non-null     float64\n",
            " 4   april_bmi            67 non-null     float64\n",
            " 5   delta                67 non-null     int64  \n",
            "dtypes: float64(2), int64(3), object(1)\n",
            "memory usage: 3.3+ KB\n"
          ]
        }
      ],
      "source": [
        "import pandas as pd\n",
        "import matplotlib.pyplot as plt\n",
        "\n",
        "df = pd.read_csv(\"freshman_15.csv\")\n",
        "# Renaming columns\n",
        "df.columns = [\"gender\", \"september_weight_kg\", \"april_weight_kg\", \"september_bmi\", \"april_bmi\"]\n",
        "# Creating a column to check how much weight was gained / lost\n",
        "# Weight gained is a positive number; weight lost is a negative number\n",
        "df[\"delta\"] = df[\"april_weight_kg\"] - df[\"september_weight_kg\"]\n",
        "df.info()"
      ]
    },
    {
      "cell_type": "markdown",
      "source": [
        "Here's the distribution of our data:"
      ],
      "metadata": {
        "id": "VRFrG_Ahrxep"
      }
    },
    {
      "cell_type": "code",
      "source": [
        "# ALL\n",
        "df.delta.plot.hist()\n",
        "plt.title(f\"Overall Weight Distribution\")\n",
        "plt.xlabel(\"Change in weight (kg)\")\n",
        "plt.show()"
      ],
      "metadata": {
        "colab": {
          "base_uri": "https://localhost:8080/",
          "height": 295
        },
        "id": "91nve6oPrtWq",
        "outputId": "e2c5ef60-f495-47ca-c259-d340ddd58461"
      },
      "execution_count": 45,
      "outputs": [
        {
          "output_type": "display_data",
          "data": {
            "text/plain": [
              "<Figure size 432x288 with 1 Axes>"
            ],
            "image/png": "[encoded data removed]"
          },
          "metadata": {
            "needs_background": "light"
          }
        }
      ]
    },
    {
      "cell_type": "code",
      "source": [
        "for curr_gender in df.gender.unique():\n",
        "  df.loc[df.gender == curr_gender, \"delta\"].plot.hist()\n",
        "  plt.title(f\"{curr_gender} Weight Distribution\")\n",
        "  plt.xlabel(\"Change in weight (kg)\")\n",
        "  plt.show()"
      ],
      "metadata": {
        "colab": {
          "base_uri": "https://localhost:8080/",
          "height": 573
        },
        "id": "xppJb7Klr6KA",
        "outputId": "08f49180-f902-4a4c-992b-7e09a9f347aa"
      },
      "execution_count": 43,
      "outputs": [
        {
          "output_type": "display_data",
          "data": {
            "text/plain": [
              "<Figure size 432x288 with 1 Axes>"
            ],
            "image/png": "[encoded data removed]"
          },
          "metadata": {
            "needs_background": "light"
          }
        },
        {
          "output_type": "display_data",
          "data": {
            "text/plain": [
              "<Figure size 432x288 with 1 Axes>"
            ],
            "image/png": "[encoded data removed]"
          },
          "metadata": {
            "needs_background": "light"
          }
        }
      ]
    },
    {
      "cell_type": "code",
      "source": [
        "gender_data_list = []\n",
        "\n",
        "for curr_gender in df.gender.unique():\n",
        "  change_in_weight_for_gender = df.loc[df[\"gender\"] == curr_gender, 'delta']\n",
        "  \n",
        "  gender_data_list.append(change_in_weight_for_gender)\n",
        "  \n",
        "  # Here, we're splitting the data we're looking at into four parts\n",
        "  quartiles = change_in_weight_for_gender.quantile([.25,.5,.75])\n",
        "\n",
        "  # 25% of all data is lower than Q1\n",
        "  first_quartile = quartiles[0.25]\n",
        "\n",
        "  # 75% of all data is lower than Q3\n",
        "  third_quartile = quartiles[0.75]\n",
        "  \n",
        "  # IQR - The IQR is the range for the middle 50% of your data\n",
        "  iqr = third_quartile - first_quartile\n",
        "\n",
        "  # Lower and Upper bounds are the edge of non-outlier data\n",
        "  # Any number lower than the lower_bound is considered an outlier\n",
        "  # Any number higher than the upper_bound is considered an outlier\n",
        "  lower_bound = first_quartile - (1.5*iqr)\n",
        "  upper_bound = third_quartile + (1.5*iqr)\n",
        "\n",
        "  # Here, we use .loc to see if there are any values lower or higher than the bounds\n",
        "  outliers = change_in_weight_for_gender.loc[(change_in_weight_for_gender < lower_bound) | \n",
        "                                             (change_in_weight_for_gender > upper_bound)]\n",
        "\n",
        "  print(f\"Potential outliers for {curr_gender}: \")\n",
        "\n",
        "  if len(outliers) == 0:\n",
        "    print(\"\\tNo outliers\")\n",
        "  else:\n",
        "    print(outliers)\n",
        "  \n",
        "  print()"
      ],
      "metadata": {
        "colab": {
          "base_uri": "https://localhost:8080/"
        },
        "id": "OBiBlHnff2IN",
        "outputId": "e449f2f7-1a59-4769-bb49-5759efac694e"
      },
      "execution_count": 46,
      "outputs": [
        {
          "output_type": "stream",
          "name": "stdout",
          "text": [
            "Potential outliers for M: \n",
            "0    -13\n",
            "1    -11\n",
            "66    11\n",
            "Name: delta, dtype: int64\n",
            "\n",
            "Potential outliers for F: \n",
            "\tNo outliers\n",
            "\n"
          ]
        }
      ]
    }
  ]
}